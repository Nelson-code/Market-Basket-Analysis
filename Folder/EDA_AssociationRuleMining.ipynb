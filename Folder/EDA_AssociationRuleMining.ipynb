{
 "cells": [
  {
   "cell_type": "markdown",
   "id": "01c902ef",
   "metadata": {},
   "source": [
    "# Exploratory Data Analysis on Bread_Basket dataset"
   ]
  },
  {
   "cell_type": "code",
   "execution_count": 1,
   "id": "4feca6b2",
   "metadata": {},
   "outputs": [],
   "source": [
    "import pandas as pd\n",
    "import matplotlib.pyplot as plt\n",
    "import numpy as np"
   ]
  },
  {
   "cell_type": "code",
   "execution_count": 2,
   "id": "748ef31e",
   "metadata": {},
   "outputs": [],
   "source": [
    "df1=pd.read_csv('C:\\\\Users\\\\Nelson\\\\Documents\\\\ML_Dataset\\\\bread_basket.csv')"
   ]
  },
  {
   "cell_type": "code",
   "execution_count": 3,
   "id": "3ea99b48",
   "metadata": {},
   "outputs": [
    {
     "data": {
      "text/html": [
       "<div>\n",
       "<style scoped>\n",
       "    .dataframe tbody tr th:only-of-type {\n",
       "        vertical-align: middle;\n",
       "    }\n",
       "\n",
       "    .dataframe tbody tr th {\n",
       "        vertical-align: top;\n",
       "    }\n",
       "\n",
       "    .dataframe thead th {\n",
       "        text-align: right;\n",
       "    }\n",
       "</style>\n",
       "<table border=\"1\" class=\"dataframe\">\n",
       "  <thead>\n",
       "    <tr style=\"text-align: right;\">\n",
       "      <th></th>\n",
       "      <th>Transaction</th>\n",
       "      <th>Item</th>\n",
       "      <th>date_time</th>\n",
       "      <th>period_day</th>\n",
       "      <th>weekday_weekend</th>\n",
       "    </tr>\n",
       "  </thead>\n",
       "  <tbody>\n",
       "    <tr>\n",
       "      <th>0</th>\n",
       "      <td>1</td>\n",
       "      <td>Bread</td>\n",
       "      <td>30-10-2016 09:58</td>\n",
       "      <td>morning</td>\n",
       "      <td>weekend</td>\n",
       "    </tr>\n",
       "    <tr>\n",
       "      <th>1</th>\n",
       "      <td>2</td>\n",
       "      <td>Scandinavian</td>\n",
       "      <td>30-10-2016 10:05</td>\n",
       "      <td>morning</td>\n",
       "      <td>weekend</td>\n",
       "    </tr>\n",
       "    <tr>\n",
       "      <th>2</th>\n",
       "      <td>2</td>\n",
       "      <td>Scandinavian</td>\n",
       "      <td>30-10-2016 10:05</td>\n",
       "      <td>morning</td>\n",
       "      <td>weekend</td>\n",
       "    </tr>\n",
       "    <tr>\n",
       "      <th>3</th>\n",
       "      <td>3</td>\n",
       "      <td>Hot chocolate</td>\n",
       "      <td>30-10-2016 10:07</td>\n",
       "      <td>morning</td>\n",
       "      <td>weekend</td>\n",
       "    </tr>\n",
       "    <tr>\n",
       "      <th>4</th>\n",
       "      <td>3</td>\n",
       "      <td>Jam</td>\n",
       "      <td>30-10-2016 10:07</td>\n",
       "      <td>morning</td>\n",
       "      <td>weekend</td>\n",
       "    </tr>\n",
       "    <tr>\n",
       "      <th>...</th>\n",
       "      <td>...</td>\n",
       "      <td>...</td>\n",
       "      <td>...</td>\n",
       "      <td>...</td>\n",
       "      <td>...</td>\n",
       "    </tr>\n",
       "    <tr>\n",
       "      <th>20502</th>\n",
       "      <td>9682</td>\n",
       "      <td>Coffee</td>\n",
       "      <td>09-04-2017 14:32</td>\n",
       "      <td>afternoon</td>\n",
       "      <td>weekend</td>\n",
       "    </tr>\n",
       "    <tr>\n",
       "      <th>20503</th>\n",
       "      <td>9682</td>\n",
       "      <td>Tea</td>\n",
       "      <td>09-04-2017 14:32</td>\n",
       "      <td>afternoon</td>\n",
       "      <td>weekend</td>\n",
       "    </tr>\n",
       "    <tr>\n",
       "      <th>20504</th>\n",
       "      <td>9683</td>\n",
       "      <td>Coffee</td>\n",
       "      <td>09-04-2017 14:57</td>\n",
       "      <td>afternoon</td>\n",
       "      <td>weekend</td>\n",
       "    </tr>\n",
       "    <tr>\n",
       "      <th>20505</th>\n",
       "      <td>9683</td>\n",
       "      <td>Pastry</td>\n",
       "      <td>09-04-2017 14:57</td>\n",
       "      <td>afternoon</td>\n",
       "      <td>weekend</td>\n",
       "    </tr>\n",
       "    <tr>\n",
       "      <th>20506</th>\n",
       "      <td>9684</td>\n",
       "      <td>Smoothies</td>\n",
       "      <td>09-04-2017 15:04</td>\n",
       "      <td>afternoon</td>\n",
       "      <td>weekend</td>\n",
       "    </tr>\n",
       "  </tbody>\n",
       "</table>\n",
       "<p>20507 rows × 5 columns</p>\n",
       "</div>"
      ],
      "text/plain": [
       "       Transaction           Item         date_time period_day weekday_weekend\n",
       "0                1          Bread  30-10-2016 09:58    morning         weekend\n",
       "1                2   Scandinavian  30-10-2016 10:05    morning         weekend\n",
       "2                2   Scandinavian  30-10-2016 10:05    morning         weekend\n",
       "3                3  Hot chocolate  30-10-2016 10:07    morning         weekend\n",
       "4                3            Jam  30-10-2016 10:07    morning         weekend\n",
       "...            ...            ...               ...        ...             ...\n",
       "20502         9682         Coffee  09-04-2017 14:32  afternoon         weekend\n",
       "20503         9682            Tea  09-04-2017 14:32  afternoon         weekend\n",
       "20504         9683         Coffee  09-04-2017 14:57  afternoon         weekend\n",
       "20505         9683         Pastry  09-04-2017 14:57  afternoon         weekend\n",
       "20506         9684      Smoothies  09-04-2017 15:04  afternoon         weekend\n",
       "\n",
       "[20507 rows x 5 columns]"
      ]
     },
     "execution_count": 3,
     "metadata": {},
     "output_type": "execute_result"
    }
   ],
   "source": [
    "df1"
   ]
  },
  {
   "cell_type": "code",
   "execution_count": 307,
   "id": "d333119a",
   "metadata": {},
   "outputs": [
    {
     "data": {
      "text/plain": [
       "Transaction         int64\n",
       "Item               object\n",
       "date_time          object\n",
       "period_day         object\n",
       "weekday_weekend    object\n",
       "dtype: object"
      ]
     },
     "execution_count": 307,
     "metadata": {},
     "output_type": "execute_result"
    }
   ],
   "source": [
    "df1.dtypes"
   ]
  },
  {
   "cell_type": "code",
   "execution_count": 34,
   "id": "48281f60",
   "metadata": {},
   "outputs": [],
   "source": [
    "df1['date_time']=pd.to_datetime(df1['date_time'])"
   ]
  },
  {
   "cell_type": "markdown",
   "id": "dbc7ceef",
   "metadata": {},
   "source": [
    "EDA on the dataset"
   ]
  },
  {
   "cell_type": "code",
   "execution_count": 301,
   "id": "8fd5e6e4",
   "metadata": {},
   "outputs": [
    {
     "data": {
      "text/plain": [
       "Transaction        False\n",
       "Item               False\n",
       "date_time          False\n",
       "period_day         False\n",
       "weekday_weekend    False\n",
       "dtype: bool"
      ]
     },
     "execution_count": 301,
     "metadata": {},
     "output_type": "execute_result"
    }
   ],
   "source": [
    "df1.isna().any()"
   ]
  },
  {
   "cell_type": "code",
   "execution_count": 303,
   "id": "6ec1eca9",
   "metadata": {},
   "outputs": [
    {
     "data": {
      "text/plain": [
       "array(['weekend', 'weekday'], dtype=object)"
      ]
     },
     "execution_count": 303,
     "metadata": {},
     "output_type": "execute_result"
    }
   ],
   "source": [
    "df1['weekday_weekend'].unique()"
   ]
  },
  {
   "cell_type": "code",
   "execution_count": 312,
   "id": "3a062279",
   "metadata": {},
   "outputs": [
    {
     "data": {
      "text/html": [
       "<div>\n",
       "<style scoped>\n",
       "    .dataframe tbody tr th:only-of-type {\n",
       "        vertical-align: middle;\n",
       "    }\n",
       "\n",
       "    .dataframe tbody tr th {\n",
       "        vertical-align: top;\n",
       "    }\n",
       "\n",
       "    .dataframe thead th {\n",
       "        text-align: right;\n",
       "    }\n",
       "</style>\n",
       "<table border=\"1\" class=\"dataframe\">\n",
       "  <thead>\n",
       "    <tr style=\"text-align: right;\">\n",
       "      <th></th>\n",
       "      <th>Transaction</th>\n",
       "      <th>Item</th>\n",
       "      <th>date_time</th>\n",
       "      <th>period_day</th>\n",
       "      <th>weekday_weekend</th>\n",
       "    </tr>\n",
       "  </thead>\n",
       "  <tbody>\n",
       "    <tr>\n",
       "      <th>140</th>\n",
       "      <td>67</td>\n",
       "      <td>Hearty &amp; Seasonal</td>\n",
       "      <td>30-10-2016 13:46</td>\n",
       "      <td>afternoon</td>\n",
       "      <td>weekend</td>\n",
       "    </tr>\n",
       "    <tr>\n",
       "      <th>141</th>\n",
       "      <td>67</td>\n",
       "      <td>Mineral water</td>\n",
       "      <td>30-10-2016 13:46</td>\n",
       "      <td>afternoon</td>\n",
       "      <td>weekend</td>\n",
       "    </tr>\n",
       "    <tr>\n",
       "      <th>142</th>\n",
       "      <td>67</td>\n",
       "      <td>Muffin</td>\n",
       "      <td>30-10-2016 13:46</td>\n",
       "      <td>afternoon</td>\n",
       "      <td>weekend</td>\n",
       "    </tr>\n",
       "  </tbody>\n",
       "</table>\n",
       "</div>"
      ],
      "text/plain": [
       "     Transaction               Item         date_time period_day  \\\n",
       "140           67  Hearty & Seasonal  30-10-2016 13:46  afternoon   \n",
       "141           67      Mineral water  30-10-2016 13:46  afternoon   \n",
       "142           67             Muffin  30-10-2016 13:46  afternoon   \n",
       "\n",
       "    weekday_weekend  \n",
       "140         weekend  \n",
       "141         weekend  \n",
       "142         weekend  "
      ]
     },
     "execution_count": 312,
     "metadata": {},
     "output_type": "execute_result"
    }
   ],
   "source": [
    "df1.groupby(by='Transaction').get_group(67)"
   ]
  },
  {
   "cell_type": "code",
   "execution_count": 313,
   "id": "4dc43e90",
   "metadata": {},
   "outputs": [
    {
     "data": {
      "text/plain": [
       "array(['morning', 'afternoon', 'evening', 'night'], dtype=object)"
      ]
     },
     "execution_count": 313,
     "metadata": {},
     "output_type": "execute_result"
    }
   ],
   "source": [
    "df1['period_day'].unique()"
   ]
  },
  {
   "cell_type": "code",
   "execution_count": 319,
   "id": "9988039c",
   "metadata": {},
   "outputs": [
    {
     "data": {
      "text/plain": [
       "array(['weekend', 'weekday'], dtype=object)"
      ]
     },
     "execution_count": 319,
     "metadata": {},
     "output_type": "execute_result"
    }
   ],
   "source": [
    "df1['weekday_weekend'].unique()"
   ]
  },
  {
   "cell_type": "code",
   "execution_count": 321,
   "id": "2eb5107d",
   "metadata": {},
   "outputs": [
    {
     "data": {
      "text/plain": [
       "array(['Bread', 'Scandinavian', 'Hot chocolate', 'Jam', 'Cookies',\n",
       "       'Muffin', 'Coffee', 'Pastry', 'Medialuna', 'Tea', 'Tartine',\n",
       "       'Basket', 'Mineral water', 'Farm House', 'Fudge', 'Juice',\n",
       "       \"Ella's Kitchen Pouches\", 'Victorian Sponge', 'Frittata',\n",
       "       'Hearty & Seasonal', 'Soup', 'Pick and Mix Bowls', 'Smoothies',\n",
       "       'Cake', 'Mighty Protein', 'Chicken sand', 'Coke',\n",
       "       'My-5 Fruit Shoot', 'Focaccia', 'Sandwich', 'Alfajores', 'Eggs',\n",
       "       'Brownie', 'Dulce de Leche', 'Honey', 'The BART', 'Granola',\n",
       "       'Fairy Doors', 'Empanadas', 'Keeping It Local', 'Art Tray',\n",
       "       'Bowl Nic Pitt', 'Bread Pudding', 'Adjustment', 'Truffles',\n",
       "       'Chimichurri Oil', 'Bacon', 'Spread', 'Kids biscuit', 'Siblings',\n",
       "       'Caramel bites', 'Jammie Dodgers', 'Tiffin', 'Olum & polenta',\n",
       "       'Polenta', 'The Nomad', 'Hack the stack', 'Bakewell',\n",
       "       'Lemon and coconut', 'Toast', 'Scone', 'Crepes', 'Vegan mincepie',\n",
       "       'Bare Popcorn', 'Muesli', 'Crisps', 'Pintxos', 'Gingerbread syrup',\n",
       "       'Panatone', 'Brioche and salami', 'Afternoon with the baker',\n",
       "       'Salad', 'Chicken Stew', 'Spanish Brunch',\n",
       "       'Raspberry shortbread sandwich', 'Extra Salami or Feta',\n",
       "       'Duck egg', 'Baguette', \"Valentine's card\", 'Tshirt',\n",
       "       'Vegan Feast', 'Postcard', 'Nomad bag', 'Chocolates',\n",
       "       'Coffee granules ', 'Drinking chocolate spoons ',\n",
       "       'Christmas common', 'Argentina Night', 'Half slice Monster ',\n",
       "       'Gift voucher', 'Cherry me Dried fruit', 'Mortimer', 'Raw bars',\n",
       "       'Tacos/Fajita'], dtype=object)"
      ]
     },
     "execution_count": 321,
     "metadata": {},
     "output_type": "execute_result"
    }
   ],
   "source": [
    "df1['Item'].unique()"
   ]
  },
  {
   "cell_type": "markdown",
   "id": "27cece30",
   "metadata": {},
   "source": [
    "How was the sales b/w weekend vs weekday"
   ]
  },
  {
   "cell_type": "code",
   "execution_count": 328,
   "id": "6d7011ce",
   "metadata": {},
   "outputs": [
    {
     "data": {
      "text/plain": [
       "weekday_weekend\n",
       "weekday    12807\n",
       "weekend     7700\n",
       "Name: weekday_weekend, dtype: int64"
      ]
     },
     "execution_count": 328,
     "metadata": {},
     "output_type": "execute_result"
    }
   ],
   "source": [
    "w_c=df1.groupby(by='weekday_weekend')['weekday_weekend'].count()\n",
    "w_c"
   ]
  },
  {
   "cell_type": "code",
   "execution_count": 330,
   "id": "55e6dda9",
   "metadata": {},
   "outputs": [
    {
     "data": {
      "text/plain": [
       "<BarContainer object of 2 artists>"
      ]
     },
     "execution_count": 330,
     "metadata": {},
     "output_type": "execute_result"
    },
    {
     "data": {
      "image/png": "[encoded data removed]",
      "text/plain": [
       "<Figure size 640x480 with 1 Axes>"
      ]
     },
     "metadata": {},
     "output_type": "display_data"
    }
   ],
   "source": [
    "fig=plt.figure()\n",
    "ax=fig.add_axes(111)\n",
    "ax.bar(w_c.index,w_c)"
   ]
  },
  {
   "cell_type": "markdown",
   "id": "f957c51f",
   "metadata": {},
   "source": [
    "That's amazing but let's findout why the weekend sales were lesser thans week day "
   ]
  },
  {
   "cell_type": "code",
   "execution_count": 341,
   "id": "f902222e",
   "metadata": {},
   "outputs": [],
   "source": [
    "w_m=df1[(df1['weekday_weekend']=='weekend') & (df1['period_day']=='morning')]\n",
    "w_n=df1[(df1['weekday_weekend']=='weekend') & (df1['period_day']=='afternoon')]\n",
    "w_e=df1[(df1['weekday_weekend']=='weekend') & (df1['period_day']=='evening')]\n",
    "w_d=df1[(df1['weekday_weekend']=='weekend') & (df1['period_day']=='night')]"
   ]
  },
  {
   "cell_type": "code",
   "execution_count": 350,
   "id": "24266766",
   "metadata": {},
   "outputs": [],
   "source": [
    "d_m=df1[(df1['weekday_weekend']=='weekday') & (df1['period_day']=='morning')]\n",
    "d_n=df1[(df1['weekday_weekend']=='weekday') & (df1['period_day']=='afternoon')]\n",
    "d_e=df1[(df1['weekday_weekend']=='weekday') & (df1['period_day']=='evening')]\n",
    "d_d=df1[(df1['weekday_weekend']=='weekday') & (df1['period_day']=='night')]"
   ]
  },
  {
   "cell_type": "code",
   "execution_count": 356,
   "id": "5bfe4f75",
   "metadata": {},
   "outputs": [
    {
     "data": {
      "image/png": "[encoded data removed]",
      "text/plain": [
       "<Figure size 1100x480 with 2 Axes>"
      ]
     },
     "metadata": {},
     "output_type": "display_data"
    }
   ],
   "source": [
    "fig,ax=plt.subplots(nrows=1,ncols=2)\n",
    "ax[0].bar(['morning','noon','evening','night'],[len(w_m),len(w_n),len(w_e),len(w_d)])\n",
    "ax[0].set_title('Weekend')\n",
    "ax[1].bar(['morning','noon','evening','night'],[len(d_m),len(d_n),len(d_e),len(d_d)])\n",
    "ax[1].set_title('Weekday')\n",
    "fig.set_figwidth(11)"
   ]
  },
  {
   "cell_type": "markdown",
   "id": "fc5d1ed8",
   "metadata": {},
   "source": [
    "If we look at the above graph the trends are exactly same but the scale in no. of customers visiting the bakery varies.\n",
    "\n",
    "Tips to improve:\n",
    "1. Produce less amount of items in the weekend based on the demand\n",
    "2. Sell unique items which will be made available only during the weekend\n",
    "3. Give promos/discounts for the few products(can be found by frequent pattern algo's) only during the weekend"
   ]
  },
  {
   "cell_type": "markdown",
   "id": "2eefc1c7",
   "metadata": {},
   "source": [
    "How was the month-wise sales in the bakery?"
   ]
  },
  {
   "cell_type": "code",
   "execution_count": 58,
   "id": "20b9da2e",
   "metadata": {},
   "outputs": [],
   "source": [
    "m_c=df1.groupby(by=df1['date_time'].dt.month)['Item'].count()"
   ]
  },
  {
   "cell_type": "code",
   "execution_count": 391,
   "id": "558c9040",
   "metadata": {
    "scrolled": false
   },
   "outputs": [
    {
     "data": {
      "image/png": "[encoded data removed]",
      "text/plain": [
       "<Figure size 640x480 with 1 Axes>"
      ]
     },
     "metadata": {},
     "output_type": "display_data"
    }
   ],
   "source": [
    "fig=plt.figure()\n",
    "ax=fig.add_axes(111)\n",
    "b=ax.bar(m_c.index,m_c)\n",
    "ax.set_xticks(m_c.index)\n",
    "ax.set_xlabel('Months')\n",
    "ax.set_ylabel('Sales')\n",
    "line=ax.plot(m_c,color='black')"
   ]
  },
  {
   "cell_type": "markdown",
   "id": "d0a760d7",
   "metadata": {},
   "source": [
    "The above barplot shows Bi-modal distribution as it has two peaks. In Bi-modal distribution, distribution of data will have two peaks seperated by a group in between them. Basically the two peaks might represent two seperate groups and it may require to be seperated using Gaussian mixture modeling (GMM) when we are attempting to create a model out of it.\n",
    "\n",
    "\n",
    "From above plot we can infer that 'March' month has highest sales record and there is a sudden decrease in sales after March."
   ]
  },
  {
   "cell_type": "code",
   "execution_count": 395,
   "id": "36f4a87a",
   "metadata": {},
   "outputs": [],
   "source": [
    "m_a=df1.groupby(by=df1['date_time'].dt.month)"
   ]
  },
  {
   "cell_type": "code",
   "execution_count": 398,
   "id": "bfd8a28d",
   "metadata": {},
   "outputs": [],
   "source": [
    "m=m_a.get_group(3)"
   ]
  },
  {
   "cell_type": "code",
   "execution_count": 399,
   "id": "d0da19c4",
   "metadata": {},
   "outputs": [],
   "source": [
    "a=m_a.get_group(4)"
   ]
  },
  {
   "cell_type": "markdown",
   "id": "d9a87ec9",
   "metadata": {},
   "source": [
    "Period wise comparison b/w March vs April"
   ]
  },
  {
   "cell_type": "code",
   "execution_count": 411,
   "id": "4331a74d",
   "metadata": {},
   "outputs": [],
   "source": [
    "m_s=m['period_day'].value_counts()"
   ]
  },
  {
   "cell_type": "code",
   "execution_count": 412,
   "id": "fcf35d5f",
   "metadata": {},
   "outputs": [],
   "source": [
    "a_s=a['period_day'].value_counts()"
   ]
  },
  {
   "cell_type": "code",
   "execution_count": 415,
   "id": "5a6e74a9",
   "metadata": {},
   "outputs": [
    {
     "data": {
      "image/png": "[encoded data removed]",
      "text/plain": [
       "<Figure size 1100x480 with 2 Axes>"
      ]
     },
     "metadata": {},
     "output_type": "display_data"
    }
   ],
   "source": [
    "fig,ax=plt.subplots(nrows=1,ncols=2)\n",
    "ax[0].bar(m_s.index,m_s)\n",
    "ax[0].set_title('March sales')\n",
    "ax[1].bar(a_s.index,a_s)\n",
    "ax[1].set_title('April sales')\n",
    "ax[1].set_ylim(0,1800)\n",
    "fig.set_figwidth(11)"
   ]
  },
  {
   "cell_type": "markdown",
   "id": "5e256191",
   "metadata": {},
   "source": [
    "Product wise commparison b/w March vs April"
   ]
  },
  {
   "cell_type": "code",
   "execution_count": 416,
   "id": "130dd113",
   "metadata": {},
   "outputs": [],
   "source": [
    "m_p=m['Item'].value_counts()\n",
    "a_p=a['Item'].value_counts()"
   ]
  },
  {
   "cell_type": "code",
   "execution_count": 424,
   "id": "30ce97da",
   "metadata": {},
   "outputs": [
    {
     "data": {
      "text/plain": [
       "<matplotlib.collections.PathCollection at 0x1e5450d1690>"
      ]
     },
     "execution_count": 424,
     "metadata": {},
     "output_type": "execute_result"
    },
    {
     "data": {
      "image/png": "[encoded data removed]",
      "text/plain": [
       "<Figure size 640x480 with 1 Axes>"
      ]
     },
     "metadata": {},
     "output_type": "display_data"
    }
   ],
   "source": [
    "plt.scatter(m_p.index,m_p)\n",
    "plt.scatter(a_p.index,a_p,color='b')"
   ]
  },
  {
   "cell_type": "markdown",
   "id": "f82e40f8",
   "metadata": {},
   "source": [
    "Year wise comparison b/w March & April"
   ]
  },
  {
   "cell_type": "code",
   "execution_count": 433,
   "id": "6670335d",
   "metadata": {},
   "outputs": [
    {
     "data": {
      "text/plain": [
       "2017    740\n",
       "2016    308\n",
       "Name: date_time, dtype: int64"
      ]
     },
     "execution_count": 433,
     "metadata": {},
     "output_type": "execute_result"
    }
   ],
   "source": [
    "a['date_time'].dt.year.value_counts()"
   ]
  },
  {
   "cell_type": "code",
   "execution_count": 464,
   "id": "e3d8dabd",
   "metadata": {},
   "outputs": [
    {
     "data": {
      "text/plain": [
       "2017    2840\n",
       "2016     380\n",
       "Name: date_time, dtype: int64"
      ]
     },
     "execution_count": 464,
     "metadata": {},
     "output_type": "execute_result"
    }
   ],
   "source": [
    "m['date_time'].dt.year.value_counts()"
   ]
  },
  {
   "cell_type": "markdown",
   "id": "1bc736c1",
   "metadata": {},
   "source": [
    "The above O/Ps clearly shows that in the year 2017 there was a huge gap in sales count b/w March and April,"
   ]
  },
  {
   "cell_type": "markdown",
   "id": "b3b148c1",
   "metadata": {},
   "source": [
    "Day wise comparison for the year 2017 b/w March and April"
   ]
  },
  {
   "cell_type": "code",
   "execution_count": 463,
   "id": "66fd5a11",
   "metadata": {},
   "outputs": [
    {
     "data": {
      "text/plain": [
       "<matplotlib.legend.Legend at 0x1e54662f450>"
      ]
     },
     "execution_count": 463,
     "metadata": {},
     "output_type": "execute_result"
    },
    {
     "data": {
      "image/png": "[encoded data removed]",
      "text/plain": [
       "<Figure size 640x480 with 1 Axes>"
      ]
     },
     "metadata": {},
     "output_type": "display_data"
    }
   ],
   "source": [
    "a_l=a[a['date_time'].dt.year==2017]['date_time'].dt.day.value_counts()\n",
    "m_l=m[m['date_time'].dt.year==2017]['date_time'].dt.day.value_counts()\n",
    "plt.plot(a_l.sort_index().index,a_l.sort_index().values,'bo-',label='April day wise sales')\n",
    "plt.plot(m_l.sort_index().index,m_l.sort_index().values,'ro-',label='March day wise sales')\n",
    "plt.xlabel('Days')\n",
    "plt.ylabel('Sales count')\n",
    "plt.legend(['April','March'])"
   ]
  },
  {
   "cell_type": "markdown",
   "id": "e209427d",
   "metadata": {},
   "source": [
    "# It is evident from the above line plot that there was no sales records after 4th April in the year 2017 which could be a reason for sudden decrease in sales"
   ]
  },
  {
   "cell_type": "markdown",
   "id": "f2bf5e49",
   "metadata": {},
   "source": [
    "Max dates in the every month for every year 2016 & 2017"
   ]
  },
  {
   "cell_type": "code",
   "execution_count": 88,
   "id": "5d12b5e6",
   "metadata": {},
   "outputs": [],
   "source": [
    "yearwise_month=p_d.groupby(by=['year','month'])['it'].count()\n",
    "num_records=p_d.groupby(by=['year','month'])['date'].max()"
   ]
  },
  {
   "cell_type": "code",
   "execution_count": 95,
   "id": "29ab057d",
   "metadata": {},
   "outputs": [
    {
     "data": {
      "image/png": "[encoded data removed]",
      "text/plain": [
       "<Figure size 1200x480 with 2 Axes>"
      ]
     },
     "metadata": {},
     "output_type": "display_data"
    }
   ],
   "source": [
    "fig,ax=plt.subplots(nrows=1,ncols=2)\n",
    "ax[0].plot(yearwise_month[2016].index,yearwise_month[2016].values,'bo-')\n",
    "ax[0].plot(yearwise_month[2017].index,yearwise_month[2017].values,'ro-')\n",
    "ax[0].set_xlabel('Months')\n",
    "ax[0].set_ylabel('Sales count')\n",
    "ax[0].legend(['2016','2017'])\n",
    "ax[0].set_title('Year-wise sales on each month')\n",
    "ax[1].plot(num_records[2016].index,num_records[2016].values,'bo-')\n",
    "ax[1].plot(num_records[2017].index,num_records[2017].values,'ro-')\n",
    "ax[1].set_xlabel('Months')\n",
    "ax[1].set_ylabel('Max Day')\n",
    "ax[1].legend(['2016','2017'])\n",
    "ax[1].set_title('Max dates in the every month for every year 2016 & 2017')\n",
    "fig.set_figwidth(12)"
   ]
  },
  {
   "cell_type": "markdown",
   "id": "07497249",
   "metadata": {},
   "source": [
    "From the above line plot it is pretty evident that months with less no of distribution in dates have less sales. Fixing this data issue can give better analysis on the bakery sales"
   ]
  },
  {
   "cell_type": "markdown",
   "id": "8cf88894",
   "metadata": {},
   "source": [
    "# X-mas and New year sales analysis"
   ]
  },
  {
   "cell_type": "markdown",
   "id": "08de88d6",
   "metadata": {},
   "source": [
    "Obviously, from the above line plot we can see that in 2016 there was a good amount of sales happened b/w Christmas season of 2016 & New year 2017. So I'm considering this period as my analysis"
   ]
  },
  {
   "cell_type": "markdown",
   "id": "3ea27311",
   "metadata": {},
   "source": [
    "Top10 product sold in high amount during these days?"
   ]
  },
  {
   "cell_type": "code",
   "execution_count": 110,
   "id": "ee3d8b83",
   "metadata": {},
   "outputs": [
    {
     "name": "stdout",
     "output_type": "stream",
     "text": [
      "Total sales of New year is:  it    5274\n",
      "dtype: int64\n"
     ]
    }
   ],
   "source": [
    "ny=p_d.loc[(p_d['year']==2017) & ((p_d['month']==1)|(p_d['month']==2))]\n",
    "print(\"Total sales of New year is: \",ny[['it']].count())"
   ]
  },
  {
   "cell_type": "code",
   "execution_count": 112,
   "id": "423bdb35",
   "metadata": {},
   "outputs": [
    {
     "name": "stdout",
     "output_type": "stream",
     "text": [
      "Total sales of Xmas is:  it    4909\n",
      "dtype: int64\n"
     ]
    }
   ],
   "source": [
    "cs=p_d.loc[(p_d['year']==2016) & ((p_d['month']==11)|(p_d['month']==12))]\n",
    "print(\"Total sales of Xmas is: \",cs[['it']].count())"
   ]
  },
  {
   "cell_type": "code",
   "execution_count": 133,
   "id": "d32cd4fe",
   "metadata": {},
   "outputs": [
    {
     "data": {
      "text/html": [
       "<div>\n",
       "<style scoped>\n",
       "    .dataframe tbody tr th:only-of-type {\n",
       "        vertical-align: middle;\n",
       "    }\n",
       "\n",
       "    .dataframe tbody tr th {\n",
       "        vertical-align: top;\n",
       "    }\n",
       "\n",
       "    .dataframe thead th {\n",
       "        text-align: right;\n",
       "    }\n",
       "</style>\n",
       "<table border=\"1\" class=\"dataframe\">\n",
       "  <thead>\n",
       "    <tr style=\"text-align: right;\">\n",
       "      <th></th>\n",
       "      <th>Items</th>\n",
       "      <th>Count</th>\n",
       "    </tr>\n",
       "  </thead>\n",
       "  <tbody>\n",
       "    <tr>\n",
       "      <th>0</th>\n",
       "      <td>Coffee</td>\n",
       "      <td>1350</td>\n",
       "    </tr>\n",
       "    <tr>\n",
       "      <th>1</th>\n",
       "      <td>Bread</td>\n",
       "      <td>849</td>\n",
       "    </tr>\n",
       "    <tr>\n",
       "      <th>2</th>\n",
       "      <td>Tea</td>\n",
       "      <td>395</td>\n",
       "    </tr>\n",
       "    <tr>\n",
       "      <th>3</th>\n",
       "      <td>Cake</td>\n",
       "      <td>340</td>\n",
       "    </tr>\n",
       "    <tr>\n",
       "      <th>4</th>\n",
       "      <td>Sandwich</td>\n",
       "      <td>214</td>\n",
       "    </tr>\n",
       "    <tr>\n",
       "      <th>5</th>\n",
       "      <td>Pastry</td>\n",
       "      <td>193</td>\n",
       "    </tr>\n",
       "    <tr>\n",
       "      <th>6</th>\n",
       "      <td>Hot chocolate</td>\n",
       "      <td>160</td>\n",
       "    </tr>\n",
       "    <tr>\n",
       "      <th>7</th>\n",
       "      <td>Cookies</td>\n",
       "      <td>157</td>\n",
       "    </tr>\n",
       "    <tr>\n",
       "      <th>8</th>\n",
       "      <td>Medialuna</td>\n",
       "      <td>139</td>\n",
       "    </tr>\n",
       "    <tr>\n",
       "      <th>9</th>\n",
       "      <td>Alfajores</td>\n",
       "      <td>117</td>\n",
       "    </tr>\n",
       "  </tbody>\n",
       "</table>\n",
       "</div>"
      ],
      "text/plain": [
       "           Items  Count\n",
       "0         Coffee   1350\n",
       "1          Bread    849\n",
       "2            Tea    395\n",
       "3           Cake    340\n",
       "4       Sandwich    214\n",
       "5         Pastry    193\n",
       "6  Hot chocolate    160\n",
       "7        Cookies    157\n",
       "8      Medialuna    139\n",
       "9      Alfajores    117"
      ]
     },
     "execution_count": 133,
     "metadata": {},
     "output_type": "execute_result"
    }
   ],
   "source": [
    "nt=ny['it'].value_counts().reset_index(name='Count').rename(columns={\"index\":\"Items\"})[:10]\n",
    "nt"
   ]
  },
  {
   "cell_type": "code",
   "execution_count": 134,
   "id": "eddc8b58",
   "metadata": {},
   "outputs": [
    {
     "data": {
      "text/html": [
       "<div>\n",
       "<style scoped>\n",
       "    .dataframe tbody tr th:only-of-type {\n",
       "        vertical-align: middle;\n",
       "    }\n",
       "\n",
       "    .dataframe tbody tr th {\n",
       "        vertical-align: top;\n",
       "    }\n",
       "\n",
       "    .dataframe thead th {\n",
       "        text-align: right;\n",
       "    }\n",
       "</style>\n",
       "<table border=\"1\" class=\"dataframe\">\n",
       "  <thead>\n",
       "    <tr style=\"text-align: right;\">\n",
       "      <th></th>\n",
       "      <th>Items</th>\n",
       "      <th>Count</th>\n",
       "    </tr>\n",
       "  </thead>\n",
       "  <tbody>\n",
       "    <tr>\n",
       "      <th>0</th>\n",
       "      <td>Coffee</td>\n",
       "      <td>1363</td>\n",
       "    </tr>\n",
       "    <tr>\n",
       "      <th>1</th>\n",
       "      <td>Bread</td>\n",
       "      <td>886</td>\n",
       "    </tr>\n",
       "    <tr>\n",
       "      <th>2</th>\n",
       "      <td>Tea</td>\n",
       "      <td>339</td>\n",
       "    </tr>\n",
       "    <tr>\n",
       "      <th>3</th>\n",
       "      <td>Medialuna</td>\n",
       "      <td>228</td>\n",
       "    </tr>\n",
       "    <tr>\n",
       "      <th>4</th>\n",
       "      <td>Pastry</td>\n",
       "      <td>197</td>\n",
       "    </tr>\n",
       "    <tr>\n",
       "      <th>5</th>\n",
       "      <td>Hot chocolate</td>\n",
       "      <td>179</td>\n",
       "    </tr>\n",
       "    <tr>\n",
       "      <th>6</th>\n",
       "      <td>Cake</td>\n",
       "      <td>175</td>\n",
       "    </tr>\n",
       "    <tr>\n",
       "      <th>7</th>\n",
       "      <td>Sandwich</td>\n",
       "      <td>150</td>\n",
       "    </tr>\n",
       "    <tr>\n",
       "      <th>8</th>\n",
       "      <td>Farm House</td>\n",
       "      <td>110</td>\n",
       "    </tr>\n",
       "    <tr>\n",
       "      <th>9</th>\n",
       "      <td>Muffin</td>\n",
       "      <td>109</td>\n",
       "    </tr>\n",
       "  </tbody>\n",
       "</table>\n",
       "</div>"
      ],
      "text/plain": [
       "           Items  Count\n",
       "0         Coffee   1363\n",
       "1          Bread    886\n",
       "2            Tea    339\n",
       "3      Medialuna    228\n",
       "4         Pastry    197\n",
       "5  Hot chocolate    179\n",
       "6           Cake    175\n",
       "7       Sandwich    150\n",
       "8     Farm House    110\n",
       "9         Muffin    109"
      ]
     },
     "execution_count": 134,
     "metadata": {},
     "output_type": "execute_result"
    }
   ],
   "source": [
    "ct=cs['it'].value_counts().reset_index(name='Count').rename(columns={\"index\":\"Items\"})[:10]\n",
    "ct"
   ]
  },
  {
   "cell_type": "markdown",
   "id": "9dab2ca9",
   "metadata": {},
   "source": [
    "How much christmas or new year sales contributes to each year"
   ]
  },
  {
   "cell_type": "code",
   "execution_count": 146,
   "id": "a92a2f52",
   "metadata": {},
   "outputs": [
    {
     "name": "stdout",
     "output_type": "stream",
     "text": [
      "New year % of sales in 2017:  it    42.659549\n",
      "dtype: float64\n",
      "Christmas season % of sales in 2016:  it    60.277505\n",
      "dtype: float64\n"
     ]
    }
   ],
   "source": [
    "tot=p_d.groupby(by='year')['it'].count()\n",
    "print(\"New year % of sales in 2017: \",(ny[['it']].count()/tot[2017])*100)\n",
    "print(\"Christmas season % of sales in 2016: \",(cs[['it']].count()/tot[2016])*100)"
   ]
  },
  {
   "cell_type": "markdown",
   "id": "9ceaa404",
   "metadata": {},
   "source": [
    "# How was the sales at the beginning of the month and at the end of the month"
   ]
  },
  {
   "cell_type": "markdown",
   "id": "8db2714b",
   "metadata": {},
   "source": [
    "As we already know that there are some months in the dataset doesn't have end of the month records, so we are ignoring those months for this analysis.\n",
    "\n",
    "As we have concrete sales data for both month_start and month_end we are selecting 'Jan,Feb' month of 2017"
   ]
  },
  {
   "cell_type": "code",
   "execution_count": 264,
   "id": "24e6ca14",
   "metadata": {},
   "outputs": [],
   "source": [
    "end=p_d.loc[(p_d['date']>=25)].groupby(by='month')['it'].count()[0:2]"
   ]
  },
  {
   "cell_type": "code",
   "execution_count": 267,
   "id": "3e3dff36",
   "metadata": {},
   "outputs": [],
   "source": [
    "start=p_d.loc[(p_d['date']<=10)&(p_d['month']<3)].groupby(by='month')['it'].count()"
   ]
  },
  {
   "cell_type": "code",
   "execution_count": 273,
   "id": "2817131e",
   "metadata": {},
   "outputs": [
    {
     "data": {
      "text/plain": [
       "<matplotlib.legend.Legend at 0x29b76781e10>"
      ]
     },
     "execution_count": 273,
     "metadata": {},
     "output_type": "execute_result"
    },
    {
     "data": {
      "image/png": "[encoded data removed]",
      "text/plain": [
       "<Figure size 640x480 with 1 Axes>"
      ]
     },
     "metadata": {},
     "output_type": "display_data"
    }
   ],
   "source": [
    "n=np.arange(0,2)\n",
    "fig=plt.figure()\n",
    "ax=fig.add_axes(111)\n",
    "ax.bar(n,start,width=0.25)\n",
    "ax.bar(n+0.25,end,width=0.25)\n",
    "ax.set_xticks(n+0.1,labels=['Jan','Feb'])\n",
    "ax.legend(['month_start','month_end'])"
   ]
  },
  {
   "cell_type": "markdown",
   "id": "bba33527",
   "metadata": {},
   "source": [
    "As per the analysis of the above graph, more transactions were done during month_end of Jan & Feb"
   ]
  },
  {
   "cell_type": "markdown",
   "id": "2d203717",
   "metadata": {},
   "source": [
    "# Frequent itemset analysis using Apriori Algorithm"
   ]
  },
  {
   "cell_type": "code",
   "execution_count": 305,
   "id": "dfd555ea",
   "metadata": {},
   "outputs": [],
   "source": [
    "from mlxtend.frequent_patterns import apriori,association_rules"
   ]
  },
  {
   "cell_type": "markdown",
   "id": "ef4c02eb",
   "metadata": {},
   "source": [
    "Apriori can be implemented by two ways:\n",
    "    1. using apyori module\n",
    "    2. mlxtend library\n",
    "\n",
    "We are using mlxtend library because the same pre-processed dataset can be used for Apriori and FP growth algorithm"
   ]
  },
  {
   "cell_type": "code",
   "execution_count": 279,
   "id": "38eb9b76",
   "metadata": {},
   "outputs": [],
   "source": [
    "df1['Item']=df1['Item'].str.strip()\n",
    "df1['Item']=df1['Item'].str.lower()"
   ]
  },
  {
   "cell_type": "markdown",
   "id": "6cfd4ec3",
   "metadata": {},
   "source": [
    "# Data Preprocessing"
   ]
  },
  {
   "cell_type": "markdown",
   "id": "54a668df",
   "metadata": {},
   "source": [
    "Input dataset to the Apriori method should contain only boolean values. (i.e. if the item is present in the transaction then 1 else 0)"
   ]
  },
  {
   "cell_type": "code",
   "execution_count": 291,
   "id": "e0ececd7",
   "metadata": {},
   "outputs": [
    {
     "data": {
      "text/html": [
       "<div>\n",
       "<style scoped>\n",
       "    .dataframe tbody tr th:only-of-type {\n",
       "        vertical-align: middle;\n",
       "    }\n",
       "\n",
       "    .dataframe tbody tr th {\n",
       "        vertical-align: top;\n",
       "    }\n",
       "\n",
       "    .dataframe thead th {\n",
       "        text-align: right;\n",
       "    }\n",
       "</style>\n",
       "<table border=\"1\" class=\"dataframe\">\n",
       "  <thead>\n",
       "    <tr style=\"text-align: right;\">\n",
       "      <th></th>\n",
       "      <th>Transaction</th>\n",
       "      <th>Item</th>\n",
       "      <th>count</th>\n",
       "    </tr>\n",
       "  </thead>\n",
       "  <tbody>\n",
       "    <tr>\n",
       "      <th>0</th>\n",
       "      <td>1</td>\n",
       "      <td>bread</td>\n",
       "      <td>1</td>\n",
       "    </tr>\n",
       "    <tr>\n",
       "      <th>1</th>\n",
       "      <td>2</td>\n",
       "      <td>scandinavian</td>\n",
       "      <td>2</td>\n",
       "    </tr>\n",
       "    <tr>\n",
       "      <th>2</th>\n",
       "      <td>3</td>\n",
       "      <td>cookies</td>\n",
       "      <td>1</td>\n",
       "    </tr>\n",
       "    <tr>\n",
       "      <th>3</th>\n",
       "      <td>3</td>\n",
       "      <td>hot chocolate</td>\n",
       "      <td>1</td>\n",
       "    </tr>\n",
       "    <tr>\n",
       "      <th>4</th>\n",
       "      <td>3</td>\n",
       "      <td>jam</td>\n",
       "      <td>1</td>\n",
       "    </tr>\n",
       "    <tr>\n",
       "      <th>...</th>\n",
       "      <td>...</td>\n",
       "      <td>...</td>\n",
       "      <td>...</td>\n",
       "    </tr>\n",
       "    <tr>\n",
       "      <th>18882</th>\n",
       "      <td>9682</td>\n",
       "      <td>tacos/fajita</td>\n",
       "      <td>1</td>\n",
       "    </tr>\n",
       "    <tr>\n",
       "      <th>18883</th>\n",
       "      <td>9682</td>\n",
       "      <td>tea</td>\n",
       "      <td>1</td>\n",
       "    </tr>\n",
       "    <tr>\n",
       "      <th>18884</th>\n",
       "      <td>9683</td>\n",
       "      <td>coffee</td>\n",
       "      <td>1</td>\n",
       "    </tr>\n",
       "    <tr>\n",
       "      <th>18885</th>\n",
       "      <td>9683</td>\n",
       "      <td>pastry</td>\n",
       "      <td>1</td>\n",
       "    </tr>\n",
       "    <tr>\n",
       "      <th>18886</th>\n",
       "      <td>9684</td>\n",
       "      <td>smoothies</td>\n",
       "      <td>1</td>\n",
       "    </tr>\n",
       "  </tbody>\n",
       "</table>\n",
       "<p>18887 rows × 3 columns</p>\n",
       "</div>"
      ],
      "text/plain": [
       "       Transaction           Item  count\n",
       "0                1          bread      1\n",
       "1                2   scandinavian      2\n",
       "2                3        cookies      1\n",
       "3                3  hot chocolate      1\n",
       "4                3            jam      1\n",
       "...            ...            ...    ...\n",
       "18882         9682   tacos/fajita      1\n",
       "18883         9682            tea      1\n",
       "18884         9683         coffee      1\n",
       "18885         9683         pastry      1\n",
       "18886         9684      smoothies      1\n",
       "\n",
       "[18887 rows x 3 columns]"
      ]
     },
     "execution_count": 291,
     "metadata": {},
     "output_type": "execute_result"
    }
   ],
   "source": [
    "g=df1.groupby(by=['Transaction','Item'])['Item'].count().reset_index(name='count')\n",
    "g"
   ]
  },
  {
   "cell_type": "code",
   "execution_count": 295,
   "id": "77a4bc65",
   "metadata": {},
   "outputs": [],
   "source": [
    "pivot_t=g.pivot_table(index='Transaction',columns='Item',values='count',aggfunc='sum',fill_value=0)"
   ]
  },
  {
   "cell_type": "code",
   "execution_count": 297,
   "id": "762a3f3d",
   "metadata": {},
   "outputs": [],
   "source": [
    "def func(x):\n",
    "    if(x<=0):\n",
    "        return 0\n",
    "    if(x>0):\n",
    "        return 1\n",
    "input_t=pivot_t.applymap(func)"
   ]
  },
  {
   "cell_type": "markdown",
   "id": "935997ae",
   "metadata": {},
   "source": [
    "Above resulting pivot table will help us to acheive the desired input boolean dataset which is required for Apriori algorithm/"
   ]
  },
  {
   "cell_type": "code",
   "execution_count": 306,
   "id": "04567c96",
   "metadata": {
    "scrolled": true
   },
   "outputs": [
    {
     "name": "stderr",
     "output_type": "stream",
     "text": [
      "C:\\Users\\Nelson\\AppData\\Roaming\\Python\\Python311\\site-packages\\mlxtend\\frequent_patterns\\fpcommon.py:109: DeprecationWarning: DataFrames with non-bool types result in worse computationalperformance and their support might be discontinued in the future.Please use a DataFrame with bool type\n",
      "  warnings.warn(\n"
     ]
    }
   ],
   "source": [
    "itemsets=apriori(input_t,min_support=0.02,use_colnames=True)\n",
    "#min-support=0.02 (means the frequent itemsets that are selected shold appear in atleast 20% of the transactions)"
   ]
  },
  {
   "cell_type": "code",
   "execution_count": 307,
   "id": "0e76cb51",
   "metadata": {},
   "outputs": [
    {
     "data": {
      "text/html": [
       "<div>\n",
       "<style scoped>\n",
       "    .dataframe tbody tr th:only-of-type {\n",
       "        vertical-align: middle;\n",
       "    }\n",
       "\n",
       "    .dataframe tbody tr th {\n",
       "        vertical-align: top;\n",
       "    }\n",
       "\n",
       "    .dataframe thead th {\n",
       "        text-align: right;\n",
       "    }\n",
       "</style>\n",
       "<table border=\"1\" class=\"dataframe\">\n",
       "  <thead>\n",
       "    <tr style=\"text-align: right;\">\n",
       "      <th></th>\n",
       "      <th>support</th>\n",
       "      <th>itemsets</th>\n",
       "    </tr>\n",
       "  </thead>\n",
       "  <tbody>\n",
       "    <tr>\n",
       "      <th>0</th>\n",
       "      <td>0.036344</td>\n",
       "      <td>(alfajores)</td>\n",
       "    </tr>\n",
       "    <tr>\n",
       "      <th>1</th>\n",
       "      <td>0.327205</td>\n",
       "      <td>(bread)</td>\n",
       "    </tr>\n",
       "    <tr>\n",
       "      <th>2</th>\n",
       "      <td>0.040042</td>\n",
       "      <td>(brownie)</td>\n",
       "    </tr>\n",
       "    <tr>\n",
       "      <th>3</th>\n",
       "      <td>0.103856</td>\n",
       "      <td>(cake)</td>\n",
       "    </tr>\n",
       "    <tr>\n",
       "      <th>4</th>\n",
       "      <td>0.478394</td>\n",
       "      <td>(coffee)</td>\n",
       "    </tr>\n",
       "    <tr>\n",
       "      <th>5</th>\n",
       "      <td>0.054411</td>\n",
       "      <td>(cookies)</td>\n",
       "    </tr>\n",
       "    <tr>\n",
       "      <th>6</th>\n",
       "      <td>0.039197</td>\n",
       "      <td>(farm house)</td>\n",
       "    </tr>\n",
       "    <tr>\n",
       "      <th>7</th>\n",
       "      <td>0.058320</td>\n",
       "      <td>(hot chocolate)</td>\n",
       "    </tr>\n",
       "    <tr>\n",
       "      <th>8</th>\n",
       "      <td>0.038563</td>\n",
       "      <td>(juice)</td>\n",
       "    </tr>\n",
       "    <tr>\n",
       "      <th>9</th>\n",
       "      <td>0.061807</td>\n",
       "      <td>(medialuna)</td>\n",
       "    </tr>\n",
       "    <tr>\n",
       "      <th>10</th>\n",
       "      <td>0.038457</td>\n",
       "      <td>(muffin)</td>\n",
       "    </tr>\n",
       "    <tr>\n",
       "      <th>11</th>\n",
       "      <td>0.086107</td>\n",
       "      <td>(pastry)</td>\n",
       "    </tr>\n",
       "    <tr>\n",
       "      <th>12</th>\n",
       "      <td>0.071844</td>\n",
       "      <td>(sandwich)</td>\n",
       "    </tr>\n",
       "    <tr>\n",
       "      <th>13</th>\n",
       "      <td>0.029054</td>\n",
       "      <td>(scandinavian)</td>\n",
       "    </tr>\n",
       "    <tr>\n",
       "      <th>14</th>\n",
       "      <td>0.034548</td>\n",
       "      <td>(scone)</td>\n",
       "    </tr>\n",
       "    <tr>\n",
       "      <th>15</th>\n",
       "      <td>0.034443</td>\n",
       "      <td>(soup)</td>\n",
       "    </tr>\n",
       "    <tr>\n",
       "      <th>16</th>\n",
       "      <td>0.142631</td>\n",
       "      <td>(tea)</td>\n",
       "    </tr>\n",
       "    <tr>\n",
       "      <th>17</th>\n",
       "      <td>0.033597</td>\n",
       "      <td>(toast)</td>\n",
       "    </tr>\n",
       "    <tr>\n",
       "      <th>18</th>\n",
       "      <td>0.020285</td>\n",
       "      <td>(truffles)</td>\n",
       "    </tr>\n",
       "    <tr>\n",
       "      <th>19</th>\n",
       "      <td>0.023349</td>\n",
       "      <td>(bread, cake)</td>\n",
       "    </tr>\n",
       "    <tr>\n",
       "      <th>20</th>\n",
       "      <td>0.090016</td>\n",
       "      <td>(bread, coffee)</td>\n",
       "    </tr>\n",
       "    <tr>\n",
       "      <th>21</th>\n",
       "      <td>0.029160</td>\n",
       "      <td>(bread, pastry)</td>\n",
       "    </tr>\n",
       "    <tr>\n",
       "      <th>22</th>\n",
       "      <td>0.028104</td>\n",
       "      <td>(bread, tea)</td>\n",
       "    </tr>\n",
       "    <tr>\n",
       "      <th>23</th>\n",
       "      <td>0.054728</td>\n",
       "      <td>(coffee, cake)</td>\n",
       "    </tr>\n",
       "    <tr>\n",
       "      <th>24</th>\n",
       "      <td>0.023772</td>\n",
       "      <td>(cake, tea)</td>\n",
       "    </tr>\n",
       "    <tr>\n",
       "      <th>25</th>\n",
       "      <td>0.028209</td>\n",
       "      <td>(coffee, cookies)</td>\n",
       "    </tr>\n",
       "    <tr>\n",
       "      <th>26</th>\n",
       "      <td>0.029583</td>\n",
       "      <td>(hot chocolate, coffee)</td>\n",
       "    </tr>\n",
       "    <tr>\n",
       "      <th>27</th>\n",
       "      <td>0.020602</td>\n",
       "      <td>(juice, coffee)</td>\n",
       "    </tr>\n",
       "    <tr>\n",
       "      <th>28</th>\n",
       "      <td>0.035182</td>\n",
       "      <td>(coffee, medialuna)</td>\n",
       "    </tr>\n",
       "    <tr>\n",
       "      <th>29</th>\n",
       "      <td>0.047544</td>\n",
       "      <td>(coffee, pastry)</td>\n",
       "    </tr>\n",
       "    <tr>\n",
       "      <th>30</th>\n",
       "      <td>0.038246</td>\n",
       "      <td>(coffee, sandwich)</td>\n",
       "    </tr>\n",
       "    <tr>\n",
       "      <th>31</th>\n",
       "      <td>0.049868</td>\n",
       "      <td>(coffee, tea)</td>\n",
       "    </tr>\n",
       "    <tr>\n",
       "      <th>32</th>\n",
       "      <td>0.023666</td>\n",
       "      <td>(toast, coffee)</td>\n",
       "    </tr>\n",
       "  </tbody>\n",
       "</table>\n",
       "</div>"
      ],
      "text/plain": [
       "     support                 itemsets\n",
       "0   0.036344              (alfajores)\n",
       "1   0.327205                  (bread)\n",
       "2   0.040042                (brownie)\n",
       "3   0.103856                   (cake)\n",
       "4   0.478394                 (coffee)\n",
       "5   0.054411                (cookies)\n",
       "6   0.039197             (farm house)\n",
       "7   0.058320          (hot chocolate)\n",
       "8   0.038563                  (juice)\n",
       "9   0.061807              (medialuna)\n",
       "10  0.038457                 (muffin)\n",
       "11  0.086107                 (pastry)\n",
       "12  0.071844               (sandwich)\n",
       "13  0.029054           (scandinavian)\n",
       "14  0.034548                  (scone)\n",
       "15  0.034443                   (soup)\n",
       "16  0.142631                    (tea)\n",
       "17  0.033597                  (toast)\n",
       "18  0.020285               (truffles)\n",
       "19  0.023349            (bread, cake)\n",
       "20  0.090016          (bread, coffee)\n",
       "21  0.029160          (bread, pastry)\n",
       "22  0.028104             (bread, tea)\n",
       "23  0.054728           (coffee, cake)\n",
       "24  0.023772              (cake, tea)\n",
       "25  0.028209        (coffee, cookies)\n",
       "26  0.029583  (hot chocolate, coffee)\n",
       "27  0.020602          (juice, coffee)\n",
       "28  0.035182      (coffee, medialuna)\n",
       "29  0.047544         (coffee, pastry)\n",
       "30  0.038246       (coffee, sandwich)\n",
       "31  0.049868            (coffee, tea)\n",
       "32  0.023666          (toast, coffee)"
      ]
     },
     "execution_count": 307,
     "metadata": {},
     "output_type": "execute_result"
    }
   ],
   "source": [
    "itemsets"
   ]
  },
  {
   "cell_type": "markdown",
   "id": "08bd8bf6",
   "metadata": {},
   "source": [
    "# Association rule mining from the frequent itemsets"
   ]
  },
  {
   "cell_type": "code",
   "execution_count": 309,
   "id": "a7ea110d",
   "metadata": {},
   "outputs": [
    {
     "data": {
      "text/html": [
       "<div>\n",
       "<style scoped>\n",
       "    .dataframe tbody tr th:only-of-type {\n",
       "        vertical-align: middle;\n",
       "    }\n",
       "\n",
       "    .dataframe tbody tr th {\n",
       "        vertical-align: top;\n",
       "    }\n",
       "\n",
       "    .dataframe thead th {\n",
       "        text-align: right;\n",
       "    }\n",
       "</style>\n",
       "<table border=\"1\" class=\"dataframe\">\n",
       "  <thead>\n",
       "    <tr style=\"text-align: right;\">\n",
       "      <th></th>\n",
       "      <th>antecedents</th>\n",
       "      <th>consequents</th>\n",
       "      <th>antecedent support</th>\n",
       "      <th>consequent support</th>\n",
       "      <th>support</th>\n",
       "      <th>confidence</th>\n",
       "      <th>lift</th>\n",
       "    </tr>\n",
       "  </thead>\n",
       "  <tbody>\n",
       "    <tr>\n",
       "      <th>0</th>\n",
       "      <td>(pastry)</td>\n",
       "      <td>(bread)</td>\n",
       "      <td>0.086107</td>\n",
       "      <td>0.327205</td>\n",
       "      <td>0.029160</td>\n",
       "      <td>0.338650</td>\n",
       "      <td>1.034977</td>\n",
       "    </tr>\n",
       "    <tr>\n",
       "      <th>1</th>\n",
       "      <td>(cake)</td>\n",
       "      <td>(coffee)</td>\n",
       "      <td>0.103856</td>\n",
       "      <td>0.478394</td>\n",
       "      <td>0.054728</td>\n",
       "      <td>0.526958</td>\n",
       "      <td>1.101515</td>\n",
       "    </tr>\n",
       "    <tr>\n",
       "      <th>2</th>\n",
       "      <td>(cookies)</td>\n",
       "      <td>(coffee)</td>\n",
       "      <td>0.054411</td>\n",
       "      <td>0.478394</td>\n",
       "      <td>0.028209</td>\n",
       "      <td>0.518447</td>\n",
       "      <td>1.083723</td>\n",
       "    </tr>\n",
       "    <tr>\n",
       "      <th>3</th>\n",
       "      <td>(hot chocolate)</td>\n",
       "      <td>(coffee)</td>\n",
       "      <td>0.058320</td>\n",
       "      <td>0.478394</td>\n",
       "      <td>0.029583</td>\n",
       "      <td>0.507246</td>\n",
       "      <td>1.060311</td>\n",
       "    </tr>\n",
       "    <tr>\n",
       "      <th>4</th>\n",
       "      <td>(juice)</td>\n",
       "      <td>(coffee)</td>\n",
       "      <td>0.038563</td>\n",
       "      <td>0.478394</td>\n",
       "      <td>0.020602</td>\n",
       "      <td>0.534247</td>\n",
       "      <td>1.116750</td>\n",
       "    </tr>\n",
       "    <tr>\n",
       "      <th>5</th>\n",
       "      <td>(medialuna)</td>\n",
       "      <td>(coffee)</td>\n",
       "      <td>0.061807</td>\n",
       "      <td>0.478394</td>\n",
       "      <td>0.035182</td>\n",
       "      <td>0.569231</td>\n",
       "      <td>1.189878</td>\n",
       "    </tr>\n",
       "    <tr>\n",
       "      <th>6</th>\n",
       "      <td>(pastry)</td>\n",
       "      <td>(coffee)</td>\n",
       "      <td>0.086107</td>\n",
       "      <td>0.478394</td>\n",
       "      <td>0.047544</td>\n",
       "      <td>0.552147</td>\n",
       "      <td>1.154168</td>\n",
       "    </tr>\n",
       "    <tr>\n",
       "      <th>7</th>\n",
       "      <td>(sandwich)</td>\n",
       "      <td>(coffee)</td>\n",
       "      <td>0.071844</td>\n",
       "      <td>0.478394</td>\n",
       "      <td>0.038246</td>\n",
       "      <td>0.532353</td>\n",
       "      <td>1.112792</td>\n",
       "    </tr>\n",
       "    <tr>\n",
       "      <th>8</th>\n",
       "      <td>(tea)</td>\n",
       "      <td>(coffee)</td>\n",
       "      <td>0.142631</td>\n",
       "      <td>0.478394</td>\n",
       "      <td>0.049868</td>\n",
       "      <td>0.349630</td>\n",
       "      <td>0.730840</td>\n",
       "    </tr>\n",
       "    <tr>\n",
       "      <th>9</th>\n",
       "      <td>(toast)</td>\n",
       "      <td>(coffee)</td>\n",
       "      <td>0.033597</td>\n",
       "      <td>0.478394</td>\n",
       "      <td>0.023666</td>\n",
       "      <td>0.704403</td>\n",
       "      <td>1.472431</td>\n",
       "    </tr>\n",
       "  </tbody>\n",
       "</table>\n",
       "</div>"
      ],
      "text/plain": [
       "       antecedents consequents  antecedent support  consequent support  \\\n",
       "0         (pastry)     (bread)            0.086107            0.327205   \n",
       "1           (cake)    (coffee)            0.103856            0.478394   \n",
       "2        (cookies)    (coffee)            0.054411            0.478394   \n",
       "3  (hot chocolate)    (coffee)            0.058320            0.478394   \n",
       "4          (juice)    (coffee)            0.038563            0.478394   \n",
       "5      (medialuna)    (coffee)            0.061807            0.478394   \n",
       "6         (pastry)    (coffee)            0.086107            0.478394   \n",
       "7       (sandwich)    (coffee)            0.071844            0.478394   \n",
       "8            (tea)    (coffee)            0.142631            0.478394   \n",
       "9          (toast)    (coffee)            0.033597            0.478394   \n",
       "\n",
       "    support  confidence      lift  \n",
       "0  0.029160    0.338650  1.034977  \n",
       "1  0.054728    0.526958  1.101515  \n",
       "2  0.028209    0.518447  1.083723  \n",
       "3  0.029583    0.507246  1.060311  \n",
       "4  0.020602    0.534247  1.116750  \n",
       "5  0.035182    0.569231  1.189878  \n",
       "6  0.047544    0.552147  1.154168  \n",
       "7  0.038246    0.532353  1.112792  \n",
       "8  0.049868    0.349630  0.730840  \n",
       "9  0.023666    0.704403  1.472431  "
      ]
     },
     "execution_count": 309,
     "metadata": {},
     "output_type": "execute_result"
    }
   ],
   "source": [
    "association_rules(itemsets,metric='confidence',min_threshold=0.3).loc[:,'antecedents':'lift']"
   ]
  },
  {
   "cell_type": "markdown",
   "id": "02aa7907",
   "metadata": {},
   "source": [
    "The above association rule have lift values >1 which indicates that these rules are more releveant from the given dataset.\n",
    "\n",
    "How interpret the above table??\n",
    "\n",
    "Let's take first record: 0\t(pastry)\t(bread)\t0.086107\t0.327205\t0.029160\t0.338650\t1.034977\n",
    "If customer buys pastry then there is a confidence of 33% that he'll buys bread as well."
   ]
  },
  {
   "cell_type": "markdown",
   "id": "09821f69",
   "metadata": {},
   "source": [
    "Apriori Algorithm suffers from few disadvantages:\n",
    "\n",
    "1. For every iteration candidate table has to be generated.\n",
    "2. For finding frequency of each itemset everytime whole database has to be scanned.\n",
    "\n",
    "These disadvantages can be resolved by FP (Frequent pattern) Growth Algorithm"
   ]
  },
  {
   "cell_type": "markdown",
   "id": "4d6cfd77",
   "metadata": {},
   "source": [
    "# Frequent itemset analysis using FP (Frequent pattern) Growth Algorithm"
   ]
  },
  {
   "cell_type": "code",
   "execution_count": 310,
   "id": "3ef25e5e",
   "metadata": {},
   "outputs": [],
   "source": [
    "from mlxtend.frequent_patterns import fpgrowth"
   ]
  },
  {
   "cell_type": "code",
   "execution_count": 314,
   "id": "54f4b7cd",
   "metadata": {},
   "outputs": [
    {
     "name": "stderr",
     "output_type": "stream",
     "text": [
      "C:\\Users\\Nelson\\AppData\\Roaming\\Python\\Python311\\site-packages\\mlxtend\\frequent_patterns\\fpcommon.py:109: DeprecationWarning: DataFrames with non-bool types result in worse computationalperformance and their support might be discontinued in the future.Please use a DataFrame with bool type\n",
      "  warnings.warn(\n"
     ]
    }
   ],
   "source": [
    "itemset_f=fpgrowth(input_t,min_support=0.02,use_colnames=True)"
   ]
  },
  {
   "cell_type": "code",
   "execution_count": 315,
   "id": "879097c1",
   "metadata": {},
   "outputs": [
    {
     "data": {
      "text/html": [
       "<div>\n",
       "<style scoped>\n",
       "    .dataframe tbody tr th:only-of-type {\n",
       "        vertical-align: middle;\n",
       "    }\n",
       "\n",
       "    .dataframe tbody tr th {\n",
       "        vertical-align: top;\n",
       "    }\n",
       "\n",
       "    .dataframe thead th {\n",
       "        text-align: right;\n",
       "    }\n",
       "</style>\n",
       "<table border=\"1\" class=\"dataframe\">\n",
       "  <thead>\n",
       "    <tr style=\"text-align: right;\">\n",
       "      <th></th>\n",
       "      <th>support</th>\n",
       "      <th>itemsets</th>\n",
       "    </tr>\n",
       "  </thead>\n",
       "  <tbody>\n",
       "    <tr>\n",
       "      <th>0</th>\n",
       "      <td>0.327205</td>\n",
       "      <td>(bread)</td>\n",
       "    </tr>\n",
       "    <tr>\n",
       "      <th>1</th>\n",
       "      <td>0.029054</td>\n",
       "      <td>(scandinavian)</td>\n",
       "    </tr>\n",
       "    <tr>\n",
       "      <th>2</th>\n",
       "      <td>0.058320</td>\n",
       "      <td>(hot chocolate)</td>\n",
       "    </tr>\n",
       "    <tr>\n",
       "      <th>3</th>\n",
       "      <td>0.054411</td>\n",
       "      <td>(cookies)</td>\n",
       "    </tr>\n",
       "    <tr>\n",
       "      <th>4</th>\n",
       "      <td>0.038457</td>\n",
       "      <td>(muffin)</td>\n",
       "    </tr>\n",
       "    <tr>\n",
       "      <th>5</th>\n",
       "      <td>0.478394</td>\n",
       "      <td>(coffee)</td>\n",
       "    </tr>\n",
       "    <tr>\n",
       "      <th>6</th>\n",
       "      <td>0.086107</td>\n",
       "      <td>(pastry)</td>\n",
       "    </tr>\n",
       "    <tr>\n",
       "      <th>7</th>\n",
       "      <td>0.061807</td>\n",
       "      <td>(medialuna)</td>\n",
       "    </tr>\n",
       "    <tr>\n",
       "      <th>8</th>\n",
       "      <td>0.142631</td>\n",
       "      <td>(tea)</td>\n",
       "    </tr>\n",
       "    <tr>\n",
       "      <th>9</th>\n",
       "      <td>0.039197</td>\n",
       "      <td>(farm house)</td>\n",
       "    </tr>\n",
       "    <tr>\n",
       "      <th>10</th>\n",
       "      <td>0.038563</td>\n",
       "      <td>(juice)</td>\n",
       "    </tr>\n",
       "    <tr>\n",
       "      <th>11</th>\n",
       "      <td>0.034443</td>\n",
       "      <td>(soup)</td>\n",
       "    </tr>\n",
       "    <tr>\n",
       "      <th>12</th>\n",
       "      <td>0.103856</td>\n",
       "      <td>(cake)</td>\n",
       "    </tr>\n",
       "    <tr>\n",
       "      <th>13</th>\n",
       "      <td>0.071844</td>\n",
       "      <td>(sandwich)</td>\n",
       "    </tr>\n",
       "    <tr>\n",
       "      <th>14</th>\n",
       "      <td>0.036344</td>\n",
       "      <td>(alfajores)</td>\n",
       "    </tr>\n",
       "    <tr>\n",
       "      <th>15</th>\n",
       "      <td>0.040042</td>\n",
       "      <td>(brownie)</td>\n",
       "    </tr>\n",
       "    <tr>\n",
       "      <th>16</th>\n",
       "      <td>0.020285</td>\n",
       "      <td>(truffles)</td>\n",
       "    </tr>\n",
       "    <tr>\n",
       "      <th>17</th>\n",
       "      <td>0.033597</td>\n",
       "      <td>(toast)</td>\n",
       "    </tr>\n",
       "    <tr>\n",
       "      <th>18</th>\n",
       "      <td>0.034548</td>\n",
       "      <td>(scone)</td>\n",
       "    </tr>\n",
       "    <tr>\n",
       "      <th>19</th>\n",
       "      <td>0.090016</td>\n",
       "      <td>(bread, coffee)</td>\n",
       "    </tr>\n",
       "    <tr>\n",
       "      <th>20</th>\n",
       "      <td>0.029583</td>\n",
       "      <td>(hot chocolate, coffee)</td>\n",
       "    </tr>\n",
       "    <tr>\n",
       "      <th>21</th>\n",
       "      <td>0.028209</td>\n",
       "      <td>(coffee, cookies)</td>\n",
       "    </tr>\n",
       "    <tr>\n",
       "      <th>22</th>\n",
       "      <td>0.047544</td>\n",
       "      <td>(coffee, pastry)</td>\n",
       "    </tr>\n",
       "    <tr>\n",
       "      <th>23</th>\n",
       "      <td>0.029160</td>\n",
       "      <td>(bread, pastry)</td>\n",
       "    </tr>\n",
       "    <tr>\n",
       "      <th>24</th>\n",
       "      <td>0.035182</td>\n",
       "      <td>(coffee, medialuna)</td>\n",
       "    </tr>\n",
       "    <tr>\n",
       "      <th>25</th>\n",
       "      <td>0.049868</td>\n",
       "      <td>(coffee, tea)</td>\n",
       "    </tr>\n",
       "    <tr>\n",
       "      <th>26</th>\n",
       "      <td>0.028104</td>\n",
       "      <td>(bread, tea)</td>\n",
       "    </tr>\n",
       "    <tr>\n",
       "      <th>27</th>\n",
       "      <td>0.020602</td>\n",
       "      <td>(juice, coffee)</td>\n",
       "    </tr>\n",
       "    <tr>\n",
       "      <th>28</th>\n",
       "      <td>0.054728</td>\n",
       "      <td>(coffee, cake)</td>\n",
       "    </tr>\n",
       "    <tr>\n",
       "      <th>29</th>\n",
       "      <td>0.023772</td>\n",
       "      <td>(cake, tea)</td>\n",
       "    </tr>\n",
       "    <tr>\n",
       "      <th>30</th>\n",
       "      <td>0.023349</td>\n",
       "      <td>(bread, cake)</td>\n",
       "    </tr>\n",
       "    <tr>\n",
       "      <th>31</th>\n",
       "      <td>0.038246</td>\n",
       "      <td>(coffee, sandwich)</td>\n",
       "    </tr>\n",
       "    <tr>\n",
       "      <th>32</th>\n",
       "      <td>0.023666</td>\n",
       "      <td>(toast, coffee)</td>\n",
       "    </tr>\n",
       "  </tbody>\n",
       "</table>\n",
       "</div>"
      ],
      "text/plain": [
       "     support                 itemsets\n",
       "0   0.327205                  (bread)\n",
       "1   0.029054           (scandinavian)\n",
       "2   0.058320          (hot chocolate)\n",
       "3   0.054411                (cookies)\n",
       "4   0.038457                 (muffin)\n",
       "5   0.478394                 (coffee)\n",
       "6   0.086107                 (pastry)\n",
       "7   0.061807              (medialuna)\n",
       "8   0.142631                    (tea)\n",
       "9   0.039197             (farm house)\n",
       "10  0.038563                  (juice)\n",
       "11  0.034443                   (soup)\n",
       "12  0.103856                   (cake)\n",
       "13  0.071844               (sandwich)\n",
       "14  0.036344              (alfajores)\n",
       "15  0.040042                (brownie)\n",
       "16  0.020285               (truffles)\n",
       "17  0.033597                  (toast)\n",
       "18  0.034548                  (scone)\n",
       "19  0.090016          (bread, coffee)\n",
       "20  0.029583  (hot chocolate, coffee)\n",
       "21  0.028209        (coffee, cookies)\n",
       "22  0.047544         (coffee, pastry)\n",
       "23  0.029160          (bread, pastry)\n",
       "24  0.035182      (coffee, medialuna)\n",
       "25  0.049868            (coffee, tea)\n",
       "26  0.028104             (bread, tea)\n",
       "27  0.020602          (juice, coffee)\n",
       "28  0.054728           (coffee, cake)\n",
       "29  0.023772              (cake, tea)\n",
       "30  0.023349            (bread, cake)\n",
       "31  0.038246       (coffee, sandwich)\n",
       "32  0.023666          (toast, coffee)"
      ]
     },
     "execution_count": 315,
     "metadata": {},
     "output_type": "execute_result"
    }
   ],
   "source": [
    "itemset_f"
   ]
  },
  {
   "cell_type": "markdown",
   "id": "5352a693",
   "metadata": {},
   "source": [
    "The above are the frequent itemsets that are genereated by FP growth algorithm"
   ]
  },
  {
   "cell_type": "markdown",
   "id": "09fd5201",
   "metadata": {},
   "source": [
    "# Association rule mining from the frequent itemsets"
   ]
  },
  {
   "cell_type": "markdown",
   "id": "2a81eb71",
   "metadata": {},
   "source": [
    "Calculating association rules for the frequent itemsets generated by FP growth algorithm"
   ]
  },
  {
   "cell_type": "code",
   "execution_count": 317,
   "id": "d5ca8907",
   "metadata": {},
   "outputs": [
    {
     "data": {
      "text/html": [
       "<div>\n",
       "<style scoped>\n",
       "    .dataframe tbody tr th:only-of-type {\n",
       "        vertical-align: middle;\n",
       "    }\n",
       "\n",
       "    .dataframe tbody tr th {\n",
       "        vertical-align: top;\n",
       "    }\n",
       "\n",
       "    .dataframe thead th {\n",
       "        text-align: right;\n",
       "    }\n",
       "</style>\n",
       "<table border=\"1\" class=\"dataframe\">\n",
       "  <thead>\n",
       "    <tr style=\"text-align: right;\">\n",
       "      <th></th>\n",
       "      <th>antecedents</th>\n",
       "      <th>consequents</th>\n",
       "      <th>antecedent support</th>\n",
       "      <th>consequent support</th>\n",
       "      <th>support</th>\n",
       "      <th>confidence</th>\n",
       "      <th>lift</th>\n",
       "    </tr>\n",
       "  </thead>\n",
       "  <tbody>\n",
       "    <tr>\n",
       "      <th>0</th>\n",
       "      <td>(hot chocolate)</td>\n",
       "      <td>(coffee)</td>\n",
       "      <td>0.058320</td>\n",
       "      <td>0.478394</td>\n",
       "      <td>0.029583</td>\n",
       "      <td>0.507246</td>\n",
       "      <td>1.060311</td>\n",
       "    </tr>\n",
       "    <tr>\n",
       "      <th>1</th>\n",
       "      <td>(cookies)</td>\n",
       "      <td>(coffee)</td>\n",
       "      <td>0.054411</td>\n",
       "      <td>0.478394</td>\n",
       "      <td>0.028209</td>\n",
       "      <td>0.518447</td>\n",
       "      <td>1.083723</td>\n",
       "    </tr>\n",
       "    <tr>\n",
       "      <th>2</th>\n",
       "      <td>(pastry)</td>\n",
       "      <td>(coffee)</td>\n",
       "      <td>0.086107</td>\n",
       "      <td>0.478394</td>\n",
       "      <td>0.047544</td>\n",
       "      <td>0.552147</td>\n",
       "      <td>1.154168</td>\n",
       "    </tr>\n",
       "    <tr>\n",
       "      <th>3</th>\n",
       "      <td>(pastry)</td>\n",
       "      <td>(bread)</td>\n",
       "      <td>0.086107</td>\n",
       "      <td>0.327205</td>\n",
       "      <td>0.029160</td>\n",
       "      <td>0.338650</td>\n",
       "      <td>1.034977</td>\n",
       "    </tr>\n",
       "    <tr>\n",
       "      <th>4</th>\n",
       "      <td>(medialuna)</td>\n",
       "      <td>(coffee)</td>\n",
       "      <td>0.061807</td>\n",
       "      <td>0.478394</td>\n",
       "      <td>0.035182</td>\n",
       "      <td>0.569231</td>\n",
       "      <td>1.189878</td>\n",
       "    </tr>\n",
       "    <tr>\n",
       "      <th>5</th>\n",
       "      <td>(tea)</td>\n",
       "      <td>(coffee)</td>\n",
       "      <td>0.142631</td>\n",
       "      <td>0.478394</td>\n",
       "      <td>0.049868</td>\n",
       "      <td>0.349630</td>\n",
       "      <td>0.730840</td>\n",
       "    </tr>\n",
       "    <tr>\n",
       "      <th>6</th>\n",
       "      <td>(juice)</td>\n",
       "      <td>(coffee)</td>\n",
       "      <td>0.038563</td>\n",
       "      <td>0.478394</td>\n",
       "      <td>0.020602</td>\n",
       "      <td>0.534247</td>\n",
       "      <td>1.116750</td>\n",
       "    </tr>\n",
       "    <tr>\n",
       "      <th>7</th>\n",
       "      <td>(cake)</td>\n",
       "      <td>(coffee)</td>\n",
       "      <td>0.103856</td>\n",
       "      <td>0.478394</td>\n",
       "      <td>0.054728</td>\n",
       "      <td>0.526958</td>\n",
       "      <td>1.101515</td>\n",
       "    </tr>\n",
       "    <tr>\n",
       "      <th>8</th>\n",
       "      <td>(sandwich)</td>\n",
       "      <td>(coffee)</td>\n",
       "      <td>0.071844</td>\n",
       "      <td>0.478394</td>\n",
       "      <td>0.038246</td>\n",
       "      <td>0.532353</td>\n",
       "      <td>1.112792</td>\n",
       "    </tr>\n",
       "    <tr>\n",
       "      <th>9</th>\n",
       "      <td>(toast)</td>\n",
       "      <td>(coffee)</td>\n",
       "      <td>0.033597</td>\n",
       "      <td>0.478394</td>\n",
       "      <td>0.023666</td>\n",
       "      <td>0.704403</td>\n",
       "      <td>1.472431</td>\n",
       "    </tr>\n",
       "  </tbody>\n",
       "</table>\n",
       "</div>"
      ],
      "text/plain": [
       "       antecedents consequents  antecedent support  consequent support  \\\n",
       "0  (hot chocolate)    (coffee)            0.058320            0.478394   \n",
       "1        (cookies)    (coffee)            0.054411            0.478394   \n",
       "2         (pastry)    (coffee)            0.086107            0.478394   \n",
       "3         (pastry)     (bread)            0.086107            0.327205   \n",
       "4      (medialuna)    (coffee)            0.061807            0.478394   \n",
       "5            (tea)    (coffee)            0.142631            0.478394   \n",
       "6          (juice)    (coffee)            0.038563            0.478394   \n",
       "7           (cake)    (coffee)            0.103856            0.478394   \n",
       "8       (sandwich)    (coffee)            0.071844            0.478394   \n",
       "9          (toast)    (coffee)            0.033597            0.478394   \n",
       "\n",
       "    support  confidence      lift  \n",
       "0  0.029583    0.507246  1.060311  \n",
       "1  0.028209    0.518447  1.083723  \n",
       "2  0.047544    0.552147  1.154168  \n",
       "3  0.029160    0.338650  1.034977  \n",
       "4  0.035182    0.569231  1.189878  \n",
       "5  0.049868    0.349630  0.730840  \n",
       "6  0.020602    0.534247  1.116750  \n",
       "7  0.054728    0.526958  1.101515  \n",
       "8  0.038246    0.532353  1.112792  \n",
       "9  0.023666    0.704403  1.472431  "
      ]
     },
     "execution_count": 317,
     "metadata": {},
     "output_type": "execute_result"
    }
   ],
   "source": [
    "association_rules(itemset_f,metric='confidence',min_threshold=0.3).loc[:,'antecedents':'lift']"
   ]
  },
  {
   "cell_type": "markdown",
   "id": "4d0a09ca",
   "metadata": {},
   "source": [
    "Summarization of sales on Grocery Dataset using pivot table"
   ]
  },
  {
   "cell_type": "code",
   "execution_count": 44,
   "id": "35564838",
   "metadata": {},
   "outputs": [],
   "source": [
    "p_d=pd.DataFrame({'month':df1['date_time'].dt.month,'year':df1['date_time'].dt.year,'date':df1['date_time'].dt.day,'it':df1['Item']})"
   ]
  },
  {
   "cell_type": "code",
   "execution_count": 45,
   "id": "34c03b3f",
   "metadata": {},
   "outputs": [
    {
     "data": {
      "text/html": [
       "<div>\n",
       "<style scoped>\n",
       "    .dataframe tbody tr th:only-of-type {\n",
       "        vertical-align: middle;\n",
       "    }\n",
       "\n",
       "    .dataframe tbody tr th {\n",
       "        vertical-align: top;\n",
       "    }\n",
       "\n",
       "    .dataframe thead th {\n",
       "        text-align: right;\n",
       "    }\n",
       "</style>\n",
       "<table border=\"1\" class=\"dataframe\">\n",
       "  <thead>\n",
       "    <tr style=\"text-align: right;\">\n",
       "      <th></th>\n",
       "      <th>month</th>\n",
       "      <th>year</th>\n",
       "      <th>date</th>\n",
       "      <th>it</th>\n",
       "    </tr>\n",
       "  </thead>\n",
       "  <tbody>\n",
       "    <tr>\n",
       "      <th>0</th>\n",
       "      <td>10</td>\n",
       "      <td>2016</td>\n",
       "      <td>30</td>\n",
       "      <td>Bread</td>\n",
       "    </tr>\n",
       "    <tr>\n",
       "      <th>1</th>\n",
       "      <td>10</td>\n",
       "      <td>2016</td>\n",
       "      <td>30</td>\n",
       "      <td>Scandinavian</td>\n",
       "    </tr>\n",
       "    <tr>\n",
       "      <th>2</th>\n",
       "      <td>10</td>\n",
       "      <td>2016</td>\n",
       "      <td>30</td>\n",
       "      <td>Scandinavian</td>\n",
       "    </tr>\n",
       "    <tr>\n",
       "      <th>3</th>\n",
       "      <td>10</td>\n",
       "      <td>2016</td>\n",
       "      <td>30</td>\n",
       "      <td>Hot chocolate</td>\n",
       "    </tr>\n",
       "    <tr>\n",
       "      <th>4</th>\n",
       "      <td>10</td>\n",
       "      <td>2016</td>\n",
       "      <td>30</td>\n",
       "      <td>Jam</td>\n",
       "    </tr>\n",
       "    <tr>\n",
       "      <th>...</th>\n",
       "      <td>...</td>\n",
       "      <td>...</td>\n",
       "      <td>...</td>\n",
       "      <td>...</td>\n",
       "    </tr>\n",
       "    <tr>\n",
       "      <th>20502</th>\n",
       "      <td>9</td>\n",
       "      <td>2017</td>\n",
       "      <td>4</td>\n",
       "      <td>Coffee</td>\n",
       "    </tr>\n",
       "    <tr>\n",
       "      <th>20503</th>\n",
       "      <td>9</td>\n",
       "      <td>2017</td>\n",
       "      <td>4</td>\n",
       "      <td>Tea</td>\n",
       "    </tr>\n",
       "    <tr>\n",
       "      <th>20504</th>\n",
       "      <td>9</td>\n",
       "      <td>2017</td>\n",
       "      <td>4</td>\n",
       "      <td>Coffee</td>\n",
       "    </tr>\n",
       "    <tr>\n",
       "      <th>20505</th>\n",
       "      <td>9</td>\n",
       "      <td>2017</td>\n",
       "      <td>4</td>\n",
       "      <td>Pastry</td>\n",
       "    </tr>\n",
       "    <tr>\n",
       "      <th>20506</th>\n",
       "      <td>9</td>\n",
       "      <td>2017</td>\n",
       "      <td>4</td>\n",
       "      <td>Smoothies</td>\n",
       "    </tr>\n",
       "  </tbody>\n",
       "</table>\n",
       "<p>20507 rows × 4 columns</p>\n",
       "</div>"
      ],
      "text/plain": [
       "       month  year  date             it\n",
       "0         10  2016    30          Bread\n",
       "1         10  2016    30   Scandinavian\n",
       "2         10  2016    30   Scandinavian\n",
       "3         10  2016    30  Hot chocolate\n",
       "4         10  2016    30            Jam\n",
       "...      ...   ...   ...            ...\n",
       "20502      9  2017     4         Coffee\n",
       "20503      9  2017     4            Tea\n",
       "20504      9  2017     4         Coffee\n",
       "20505      9  2017     4         Pastry\n",
       "20506      9  2017     4      Smoothies\n",
       "\n",
       "[20507 rows x 4 columns]"
      ]
     },
     "execution_count": 45,
     "metadata": {},
     "output_type": "execute_result"
    }
   ],
   "source": [
    "p_d"
   ]
  },
  {
   "cell_type": "code",
   "execution_count": 56,
   "id": "fd534af8",
   "metadata": {},
   "outputs": [
    {
     "data": {
      "text/html": [
       "<div>\n",
       "<style scoped>\n",
       "    .dataframe tbody tr th:only-of-type {\n",
       "        vertical-align: middle;\n",
       "    }\n",
       "\n",
       "    .dataframe tbody tr th {\n",
       "        vertical-align: top;\n",
       "    }\n",
       "\n",
       "    .dataframe thead tr th {\n",
       "        text-align: left;\n",
       "    }\n",
       "\n",
       "    .dataframe thead tr:last-of-type th {\n",
       "        text-align: right;\n",
       "    }\n",
       "</style>\n",
       "<table border=\"1\" class=\"dataframe\">\n",
       "  <thead>\n",
       "    <tr>\n",
       "      <th></th>\n",
       "      <th colspan=\"21\" halign=\"left\">date</th>\n",
       "    </tr>\n",
       "    <tr>\n",
       "      <th>year</th>\n",
       "      <th colspan=\"10\" halign=\"left\">2016</th>\n",
       "      <th>...</th>\n",
       "      <th colspan=\"9\" halign=\"left\">2017</th>\n",
       "      <th>All</th>\n",
       "    </tr>\n",
       "    <tr>\n",
       "      <th>month</th>\n",
       "      <th>1</th>\n",
       "      <th>2</th>\n",
       "      <th>3</th>\n",
       "      <th>4</th>\n",
       "      <th>5</th>\n",
       "      <th>6</th>\n",
       "      <th>7</th>\n",
       "      <th>8</th>\n",
       "      <th>9</th>\n",
       "      <th>10</th>\n",
       "      <th>...</th>\n",
       "      <th>4</th>\n",
       "      <th>5</th>\n",
       "      <th>6</th>\n",
       "      <th>7</th>\n",
       "      <th>8</th>\n",
       "      <th>9</th>\n",
       "      <th>10</th>\n",
       "      <th>11</th>\n",
       "      <th>12</th>\n",
       "      <th></th>\n",
       "    </tr>\n",
       "    <tr>\n",
       "      <th>it</th>\n",
       "      <th></th>\n",
       "      <th></th>\n",
       "      <th></th>\n",
       "      <th></th>\n",
       "      <th></th>\n",
       "      <th></th>\n",
       "      <th></th>\n",
       "      <th></th>\n",
       "      <th></th>\n",
       "      <th></th>\n",
       "      <th></th>\n",
       "      <th></th>\n",
       "      <th></th>\n",
       "      <th></th>\n",
       "      <th></th>\n",
       "      <th></th>\n",
       "      <th></th>\n",
       "      <th></th>\n",
       "      <th></th>\n",
       "      <th></th>\n",
       "      <th></th>\n",
       "    </tr>\n",
       "  </thead>\n",
       "  <tbody>\n",
       "    <tr>\n",
       "      <th>Adjustment</th>\n",
       "      <td>0</td>\n",
       "      <td>0</td>\n",
       "      <td>0</td>\n",
       "      <td>0</td>\n",
       "      <td>0</td>\n",
       "      <td>0</td>\n",
       "      <td>0</td>\n",
       "      <td>0</td>\n",
       "      <td>1</td>\n",
       "      <td>0</td>\n",
       "      <td>...</td>\n",
       "      <td>0</td>\n",
       "      <td>0</td>\n",
       "      <td>0</td>\n",
       "      <td>0</td>\n",
       "      <td>0</td>\n",
       "      <td>0</td>\n",
       "      <td>0</td>\n",
       "      <td>0</td>\n",
       "      <td>0</td>\n",
       "      <td>1</td>\n",
       "    </tr>\n",
       "    <tr>\n",
       "      <th>Afternoon with the baker</th>\n",
       "      <td>0</td>\n",
       "      <td>0</td>\n",
       "      <td>0</td>\n",
       "      <td>0</td>\n",
       "      <td>0</td>\n",
       "      <td>0</td>\n",
       "      <td>0</td>\n",
       "      <td>0</td>\n",
       "      <td>0</td>\n",
       "      <td>0</td>\n",
       "      <td>...</td>\n",
       "      <td>0</td>\n",
       "      <td>6</td>\n",
       "      <td>2</td>\n",
       "      <td>1</td>\n",
       "      <td>3</td>\n",
       "      <td>0</td>\n",
       "      <td>1</td>\n",
       "      <td>3</td>\n",
       "      <td>2</td>\n",
       "      <td>44</td>\n",
       "    </tr>\n",
       "    <tr>\n",
       "      <th>Alfajores</th>\n",
       "      <td>5</td>\n",
       "      <td>11</td>\n",
       "      <td>12</td>\n",
       "      <td>9</td>\n",
       "      <td>6</td>\n",
       "      <td>18</td>\n",
       "      <td>6</td>\n",
       "      <td>9</td>\n",
       "      <td>5</td>\n",
       "      <td>7</td>\n",
       "      <td>...</td>\n",
       "      <td>6</td>\n",
       "      <td>10</td>\n",
       "      <td>7</td>\n",
       "      <td>8</td>\n",
       "      <td>10</td>\n",
       "      <td>3</td>\n",
       "      <td>3</td>\n",
       "      <td>4</td>\n",
       "      <td>4</td>\n",
       "      <td>369</td>\n",
       "    </tr>\n",
       "    <tr>\n",
       "      <th>Argentina Night</th>\n",
       "      <td>0</td>\n",
       "      <td>0</td>\n",
       "      <td>0</td>\n",
       "      <td>0</td>\n",
       "      <td>0</td>\n",
       "      <td>0</td>\n",
       "      <td>0</td>\n",
       "      <td>0</td>\n",
       "      <td>0</td>\n",
       "      <td>0</td>\n",
       "      <td>...</td>\n",
       "      <td>0</td>\n",
       "      <td>0</td>\n",
       "      <td>0</td>\n",
       "      <td>0</td>\n",
       "      <td>4</td>\n",
       "      <td>0</td>\n",
       "      <td>0</td>\n",
       "      <td>1</td>\n",
       "      <td>0</td>\n",
       "      <td>7</td>\n",
       "    </tr>\n",
       "    <tr>\n",
       "      <th>Art Tray</th>\n",
       "      <td>0</td>\n",
       "      <td>0</td>\n",
       "      <td>0</td>\n",
       "      <td>0</td>\n",
       "      <td>0</td>\n",
       "      <td>0</td>\n",
       "      <td>0</td>\n",
       "      <td>2</td>\n",
       "      <td>0</td>\n",
       "      <td>4</td>\n",
       "      <td>...</td>\n",
       "      <td>1</td>\n",
       "      <td>0</td>\n",
       "      <td>1</td>\n",
       "      <td>0</td>\n",
       "      <td>1</td>\n",
       "      <td>0</td>\n",
       "      <td>0</td>\n",
       "      <td>2</td>\n",
       "      <td>0</td>\n",
       "      <td>38</td>\n",
       "    </tr>\n",
       "    <tr>\n",
       "      <th>...</th>\n",
       "      <td>...</td>\n",
       "      <td>...</td>\n",
       "      <td>...</td>\n",
       "      <td>...</td>\n",
       "      <td>...</td>\n",
       "      <td>...</td>\n",
       "      <td>...</td>\n",
       "      <td>...</td>\n",
       "      <td>...</td>\n",
       "      <td>...</td>\n",
       "      <td>...</td>\n",
       "      <td>...</td>\n",
       "      <td>...</td>\n",
       "      <td>...</td>\n",
       "      <td>...</td>\n",
       "      <td>...</td>\n",
       "      <td>...</td>\n",
       "      <td>...</td>\n",
       "      <td>...</td>\n",
       "      <td>...</td>\n",
       "      <td>...</td>\n",
       "    </tr>\n",
       "    <tr>\n",
       "      <th>Valentine's card</th>\n",
       "      <td>0</td>\n",
       "      <td>0</td>\n",
       "      <td>0</td>\n",
       "      <td>0</td>\n",
       "      <td>0</td>\n",
       "      <td>0</td>\n",
       "      <td>0</td>\n",
       "      <td>0</td>\n",
       "      <td>0</td>\n",
       "      <td>0</td>\n",
       "      <td>...</td>\n",
       "      <td>5</td>\n",
       "      <td>0</td>\n",
       "      <td>0</td>\n",
       "      <td>0</td>\n",
       "      <td>0</td>\n",
       "      <td>2</td>\n",
       "      <td>1</td>\n",
       "      <td>1</td>\n",
       "      <td>0</td>\n",
       "      <td>13</td>\n",
       "    </tr>\n",
       "    <tr>\n",
       "      <th>Vegan Feast</th>\n",
       "      <td>0</td>\n",
       "      <td>0</td>\n",
       "      <td>0</td>\n",
       "      <td>0</td>\n",
       "      <td>0</td>\n",
       "      <td>0</td>\n",
       "      <td>0</td>\n",
       "      <td>0</td>\n",
       "      <td>0</td>\n",
       "      <td>0</td>\n",
       "      <td>...</td>\n",
       "      <td>2</td>\n",
       "      <td>0</td>\n",
       "      <td>0</td>\n",
       "      <td>0</td>\n",
       "      <td>7</td>\n",
       "      <td>0</td>\n",
       "      <td>1</td>\n",
       "      <td>1</td>\n",
       "      <td>1</td>\n",
       "      <td>16</td>\n",
       "    </tr>\n",
       "    <tr>\n",
       "      <th>Vegan mincepie</th>\n",
       "      <td>0</td>\n",
       "      <td>0</td>\n",
       "      <td>0</td>\n",
       "      <td>0</td>\n",
       "      <td>0</td>\n",
       "      <td>0</td>\n",
       "      <td>0</td>\n",
       "      <td>1</td>\n",
       "      <td>0</td>\n",
       "      <td>2</td>\n",
       "      <td>...</td>\n",
       "      <td>0</td>\n",
       "      <td>1</td>\n",
       "      <td>0</td>\n",
       "      <td>0</td>\n",
       "      <td>2</td>\n",
       "      <td>0</td>\n",
       "      <td>1</td>\n",
       "      <td>0</td>\n",
       "      <td>2</td>\n",
       "      <td>54</td>\n",
       "    </tr>\n",
       "    <tr>\n",
       "      <th>Victorian Sponge</th>\n",
       "      <td>1</td>\n",
       "      <td>0</td>\n",
       "      <td>0</td>\n",
       "      <td>0</td>\n",
       "      <td>1</td>\n",
       "      <td>1</td>\n",
       "      <td>0</td>\n",
       "      <td>0</td>\n",
       "      <td>0</td>\n",
       "      <td>3</td>\n",
       "      <td>...</td>\n",
       "      <td>0</td>\n",
       "      <td>0</td>\n",
       "      <td>0</td>\n",
       "      <td>0</td>\n",
       "      <td>0</td>\n",
       "      <td>0</td>\n",
       "      <td>0</td>\n",
       "      <td>0</td>\n",
       "      <td>0</td>\n",
       "      <td>7</td>\n",
       "    </tr>\n",
       "    <tr>\n",
       "      <th>All</th>\n",
       "      <td>233</td>\n",
       "      <td>268</td>\n",
       "      <td>380</td>\n",
       "      <td>308</td>\n",
       "      <td>392</td>\n",
       "      <td>307</td>\n",
       "      <td>229</td>\n",
       "      <td>212</td>\n",
       "      <td>218</td>\n",
       "      <td>688</td>\n",
       "      <td>...</td>\n",
       "      <td>740</td>\n",
       "      <td>532</td>\n",
       "      <td>432</td>\n",
       "      <td>512</td>\n",
       "      <td>488</td>\n",
       "      <td>378</td>\n",
       "      <td>353</td>\n",
       "      <td>483</td>\n",
       "      <td>331</td>\n",
       "      <td>20507</td>\n",
       "    </tr>\n",
       "  </tbody>\n",
       "</table>\n",
       "<p>95 rows × 25 columns</p>\n",
       "</div>"
      ],
      "text/plain": [
       "                         date                                               \\\n",
       "year                     2016                                                \n",
       "month                       1    2    3    4    5    6    7    8    9   10   \n",
       "it                                                                           \n",
       "Adjustment                  0    0    0    0    0    0    0    0    1    0   \n",
       "Afternoon with the baker    0    0    0    0    0    0    0    0    0    0   \n",
       "Alfajores                   5   11   12    9    6   18    6    9    5    7   \n",
       "Argentina Night             0    0    0    0    0    0    0    0    0    0   \n",
       "Art Tray                    0    0    0    0    0    0    0    2    0    4   \n",
       "...                       ...  ...  ...  ...  ...  ...  ...  ...  ...  ...   \n",
       "Valentine's card            0    0    0    0    0    0    0    0    0    0   \n",
       "Vegan Feast                 0    0    0    0    0    0    0    0    0    0   \n",
       "Vegan mincepie              0    0    0    0    0    0    0    1    0    2   \n",
       "Victorian Sponge            1    0    0    0    1    1    0    0    0    3   \n",
       "All                       233  268  380  308  392  307  229  212  218  688   \n",
       "\n",
       "                          ...                                               \\\n",
       "year                      ... 2017                                           \n",
       "month                     ...    4    5    6    7    8    9   10   11   12   \n",
       "it                        ...                                                \n",
       "Adjustment                ...    0    0    0    0    0    0    0    0    0   \n",
       "Afternoon with the baker  ...    0    6    2    1    3    0    1    3    2   \n",
       "Alfajores                 ...    6   10    7    8   10    3    3    4    4   \n",
       "Argentina Night           ...    0    0    0    0    4    0    0    1    0   \n",
       "Art Tray                  ...    1    0    1    0    1    0    0    2    0   \n",
       "...                       ...  ...  ...  ...  ...  ...  ...  ...  ...  ...   \n",
       "Valentine's card          ...    5    0    0    0    0    2    1    1    0   \n",
       "Vegan Feast               ...    2    0    0    0    7    0    1    1    1   \n",
       "Vegan mincepie            ...    0    1    0    0    2    0    1    0    2   \n",
       "Victorian Sponge          ...    0    0    0    0    0    0    0    0    0   \n",
       "All                       ...  740  532  432  512  488  378  353  483  331   \n",
       "\n",
       "                                 \n",
       "year                        All  \n",
       "month                            \n",
       "it                               \n",
       "Adjustment                    1  \n",
       "Afternoon with the baker     44  \n",
       "Alfajores                   369  \n",
       "Argentina Night               7  \n",
       "Art Tray                     38  \n",
       "...                         ...  \n",
       "Valentine's card             13  \n",
       "Vegan Feast                  16  \n",
       "Vegan mincepie               54  \n",
       "Victorian Sponge              7  \n",
       "All                       20507  \n",
       "\n",
       "[95 rows x 25 columns]"
      ]
     },
     "execution_count": 56,
     "metadata": {},
     "output_type": "execute_result"
    }
   ],
   "source": [
    "p_d.pivot_table(index='it',columns=['year','month'],aggfunc='count',fill_value=0,margins=True,observed=True)"
   ]
  }
 ],
 "metadata": {
  "kernelspec": {
   "display_name": "Python 3 (ipykernel)",
   "language": "python",
   "name": "python3"
  },
  "language_info": {
   "codemirror_mode": {
    "name": "ipython",
    "version": 3
   },
   "file_extension": ".py",
   "mimetype": "text/x-python",
   "name": "python",
   "nbconvert_exporter": "python",
   "pygments_lexer": "ipython3",
   "version": "3.11.4"
  }
 },
 "nbformat": 4,
 "nbformat_minor": 5
}
